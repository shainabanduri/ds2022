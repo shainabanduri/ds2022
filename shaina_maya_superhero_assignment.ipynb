{
  "cells": [
    {
      "cell_type": "markdown",
      "id": "5fa8dcf6",
      "metadata": {
        "id": "5fa8dcf6"
      },
      "source": [
        "# Superhero Database Assignment (SQLite & Google Colab)\n",
        "\n",
        "## Objective\n",
        "In this assignment, you will design and implement a **Superhero Database** using SQLite in Google Colab. This database will store superheroes, villains, and their battles. You will write SQL queries to analyze battle outcomes and relationships between heroes and villains.\n",
        "\n",
        "### Group Size:\n",
        "- 2 to 3 students per group.\n",
        "\n",
        "### Tools Required:\n",
        "- **Google Colab**\n",
        "- **SQLite (built into Python)**\n",
        "- **CSV files (provided for import)**"
      ]
    },
    {
      "cell_type": "markdown",
      "id": "5535e625",
      "metadata": {
        "id": "5535e625"
      },
      "source": [
        "## Step 1: Setting Up Your SQLite Database\n",
        "\n",
        "### Tasks:\n",
        "1. Initialize SQLite in Google Colab.\n",
        "2. Create a database named `superhero_db.sqlite`.\n",
        "3. Define the database schema, ensuring it includes the following tables:\n",
        "   - `heroes`: Stores superhero names, powers, and teams.\n",
        "   - `villains`: Stores villains and their evil plans.\n",
        "   - `battles`: Tracks battles between heroes and villains, including the outcome.\n",
        "4. Implement primary keys and foreign keys where appropriate.\n",
        "\n",
        "✅ **Checkpoint:** Ensure that the database and tables have been successfully created."
      ]
    },
    {
      "cell_type": "code",
      "source": [
        "import sqlite3\n",
        "\n",
        "# Connect to a database file instead of in-memory\n",
        "conn = sqlite3.connect('superhero_db.sqlite')\n",
        "cursor = conn.cursor()\n",
        "\n",
        "# Drop existing tables\n",
        "ddl_statements = '''\n",
        "DROP TABLE IF EXISTS heroes;\n",
        "DROP TABLE IF EXISTS villains;\n",
        "DROP TABLE IF EXISTS battles;\n",
        "'''\n",
        "cursor.executescript(ddl_statements)\n",
        "\n",
        "# Create new tables\n",
        "ddl_statements = '''\n",
        "CREATE TABLE heroes (\n",
        "    id INTEGER PRIMARY KEY AUTOINCREMENT,\n",
        "    name TEXT NOT NULL,\n",
        "    power TEXT,\n",
        "    team TEXT\n",
        ");\n",
        "\n",
        "CREATE TABLE villains (\n",
        "    id INTEGER PRIMARY KEY AUTOINCREMENT,\n",
        "    name TEXT NOT NULL,\n",
        "    evil_plan TEXT\n",
        ");\n",
        "\n",
        "CREATE TABLE battles (\n",
        "    id INTEGER PRIMARY KEY AUTOINCREMENT,\n",
        "    hero_id INTEGER,\n",
        "    villain_id INTEGER,\n",
        "    outcome TEXT,\n",
        "    FOREIGN KEY (hero_id) REFERENCES heroes(id),\n",
        "    FOREIGN KEY (villain_id) REFERENCES villains(id)\n",
        ");\n",
        "'''\n",
        "cursor.executescript(ddl_statements)\n",
        "conn.commit()\n",
        "\n",
        "print(\"Database and tables successfully created.\")\n"
      ],
      "metadata": {
        "id": "V49Fz0Rj-nx5",
        "colab": {
          "base_uri": "https://localhost:8080/"
        },
        "outputId": "078526f4-1b67-4d0a-cabb-947fda5d37c3"
      },
      "id": "V49Fz0Rj-nx5",
      "execution_count": null,
      "outputs": [
        {
          "output_type": "stream",
          "name": "stdout",
          "text": [
            "Database and tables successfully created.\n"
          ]
        }
      ]
    },
    {
      "cell_type": "markdown",
      "id": "154b3c3a",
      "metadata": {
        "id": "154b3c3a"
      },
      "source": [
        "## Step 2: Import Data from CSV Files\n",
        "\n",
        "### Tasks:\n",
        "1. Download the provided CSV files.\n",
        "2. Upload them to Google Colab.\n",
        "3. Write a script to import data from these files into the appropriate tables.\n",
        "4. Verify that the data has been successfully inserted.\n",
        "\n",
        "✅ **Checkpoint:** Ensure that each table contains the expected data from the CSV files."
      ]
    },
    {
      "cell_type": "code",
      "source": [
        "from google.colab import drive\n",
        "drive.mount('/content/drive')"
      ],
      "metadata": {
        "id": "ILA_neZZck5V"
      },
      "id": "ILA_neZZck5V",
      "execution_count": null,
      "outputs": []
    },
    {
      "cell_type": "code",
      "source": [
        "import pandas as pd\n",
        "\n",
        "# Load CSV files into Pandas DataFrames\n",
        "heroes_df = pd.read_csv(\"/content/sample_data/heroes.csv\")\n",
        "villains_df = pd.read_csv(\"/content/sample_data/villains.csv\")\n",
        "battles_df = pd.read_csv(\"/content/sample_data/battles.csv\")\n",
        "\n",
        "# Insert data into SQLite tables\n",
        "heroes_df.to_sql(\"heroes\", conn, if_exists=\"append\", index=False)\n",
        "villains_df.to_sql(\"villains\", conn, if_exists=\"append\", index=False)\n",
        "battles_df.to_sql(\"battles\", conn, if_exists=\"append\", index=False)\n",
        "\n",
        "# Commit changes\n",
        "conn.commit()\n",
        "\n",
        "print(\"Data successfully imported into SQLite database.\")"
      ],
      "metadata": {
        "colab": {
          "base_uri": "https://localhost:8080/"
        },
        "id": "rt63tR1HW5Ue",
        "outputId": "fd13a7b2-16a4-4a3c-8211-19bfa39af3e7"
      },
      "id": "rt63tR1HW5Ue",
      "execution_count": null,
      "outputs": [
        {
          "output_type": "stream",
          "name": "stdout",
          "text": [
            "Data successfully imported into SQLite database.\n"
          ]
        }
      ]
    },
    {
      "cell_type": "markdown",
      "id": "33548d9f",
      "metadata": {
        "id": "33548d9f"
      },
      "source": [
        "## Step 3: Querying the Database\n",
        "\n",
        "### Tasks:\n",
        "Write SQL queries to answer the following:\n",
        "1. Retrieve all superheroes and their powers.\n",
        "2. Find all battles where the hero won.\n",
        "3. List all villains and their evil plans.\n",
        "4. Determine which superhero has fought the most battles.\n",
        "\n",
        "✅ **Checkpoint:** Ensure that all queries return meaningful results from the database."
      ]
    },
    {
      "cell_type": "code",
      "source": [
        "# 1. Retrieve all superheroes and their powers\n",
        "query1 = \"SELECT name, power FROM heroes;\"\n",
        "heroes_df = pd.read_sql(query1, conn)\n",
        "print(\"\\nAll Superheroes and Their Powers:\")\n",
        "print(heroes_df)\n",
        "\n",
        "# 2. Find all battles where the hero won\n",
        "query2 = \"SELECT * FROM battles WHERE outcome = 'Hero Wins';\"\n",
        "battles_won_df = pd.read_sql(query2, conn)\n",
        "print(\"\\nBattles Where the Hero Won:\")\n",
        "print(battles_won_df)\n",
        "\n",
        "# 3. List all villains and their evil plans\n",
        "query3 = \"SELECT name, evil_plan FROM villains;\"\n",
        "villains_df = pd.read_sql(query3, conn)\n",
        "print(\"\\nAll Villains and Their Evil Plans:\")\n",
        "print(villains_df)\n",
        "\n",
        "# 4. Determine which superhero has fought the most battles\n",
        "query4 = \"\"\"\n",
        "SELECT heroes.name, COUNT(battles.hero_id) AS battle_count\n",
        "FROM battles\n",
        "JOIN heroes ON battles.hero_id = heroes.id\n",
        "GROUP BY battles.hero_id\n",
        "ORDER BY battle_count DESC\n",
        "LIMIT 1;\n",
        "\"\"\"\n",
        "top_hero_df = pd.read_sql(query4, conn)\n",
        "print(\"\\nSuperhero Who Fought the Most Battles:\")\n",
        "print(top_hero_df)"
      ],
      "metadata": {
        "colab": {
          "base_uri": "https://localhost:8080/"
        },
        "id": "qRS6ePuUYz4a",
        "outputId": "785cfbdb-4bbe-4be4-f660-f4517dec61cc"
      },
      "id": "qRS6ePuUYz4a",
      "execution_count": null,
      "outputs": [
        {
          "output_type": "stream",
          "name": "stdout",
          "text": [
            "\n",
            "All Superheroes and Their Powers:\n",
            "             name               power\n",
            "0      Spider-Man        Web-slinging\n",
            "1        Iron Man       Powered Armor\n",
            "2          Batman    Genius Detective\n",
            "3        Superman      Super Strength\n",
            "4            Thor      God of Thunder\n",
            "5    Wonder Woman  Amazonian Strength\n",
            "6   Black Panther    Enhanced Agility\n",
            "7       The Flash         Super Speed\n",
            "8            Hulk      Super Strength\n",
            "9  Doctor Strange         Mystic Arts\n",
            "\n",
            "Battles Where the Hero Won:\n",
            "   id  hero_id  villain_id    outcome\n",
            "0   2        9           3  Hero Wins\n",
            "1   5        1           7  Hero Wins\n",
            "2   7        9           8  Hero Wins\n",
            "3   8        3           2  Hero Wins\n",
            "4   9        7           5  Hero Wins\n",
            "5  13        8           9  Hero Wins\n",
            "6  20        3           4  Hero Wins\n",
            "7  29        3           5  Hero Wins\n",
            "8  30        5           5  Hero Wins\n",
            "\n",
            "All Villains and Their Evil Plans:\n",
            "           name                           evil_plan\n",
            "0  Green Goblin                  Terrorize New York\n",
            "1        Thanos         Collect all Infinity Stones\n",
            "2         Joker              Spread chaos in Gotham\n",
            "3    Lex Luthor                     Defeat Superman\n",
            "4          Loki  Trick humanity into worshiping him\n",
            "5        Ultron                 AI world domination\n",
            "6      Darkseid                Control the universe\n",
            "7         Venom                  Consume Spider-Man\n",
            "8       Magneto                    Mutant supremacy\n",
            "9     Red Skull                        Revive Hydra\n",
            "\n",
            "Superhero Who Fought the Most Battles:\n",
            "     name  battle_count\n",
            "0  Batman             7\n"
          ]
        }
      ]
    },
    {
      "cell_type": "markdown",
      "id": "de8bda94",
      "metadata": {
        "id": "de8bda94"
      },
      "source": [
        "## Step 4: Add a Custom Feature\n",
        "\n",
        "### Tasks:\n",
        "1. Design and implement an additional table related to superheroes or villains.\n",
        "2. Populate it with data.\n",
        "3. Write at least one query to retrieve meaningful insights from the new table.\n",
        "\n",
        "**Examples of Custom Features:**\n",
        "- Sidekicks for superheroes\n",
        "- Villain hideouts\n",
        "- Battle locations\n",
        "- Superhero equipment\n",
        "\n",
        "✅ **Checkpoint:** Ensure that the new table and queries function correctly."
      ]
    },
    {
      "cell_type": "code",
      "source": [
        "# drop sidekicks table if exists\n",
        "cursor.execute(\"DROP TABLE IF EXISTS sidekicks\")\n",
        "\n",
        "# Create new table for sidekicks\n",
        "ddl_statement = '''\n",
        "CREATE TABLE IF NOT EXISTS sidekicks (\n",
        "    id INTEGER PRIMARY KEY AUTOINCREMENT,\n",
        "    hero_id INTEGER,\n",
        "    hero_name TEXT NOT NULL,\n",
        "    sidekick_name TEXT NOT NULL,\n",
        "    sidekick_power TEXT,\n",
        "    FOREIGN KEY (hero_id) REFERENCES heroes(id)\n",
        ");\n",
        "'''\n",
        "cursor.execute(ddl_statement)\n",
        "\n",
        "# Sidekick data with hero names\n",
        "sidekick_data = [\n",
        "    (1, \"Spider-Man\", \"Miles Morales\", \"Web-slinging\"),\n",
        "    (2, \"Iron Man\", \"War Machine\", \"Powered Armor\"),\n",
        "    (3, \"Batman\", \"Robin\", \"Acrobatics\"),\n",
        "    (4, \"Superman\", \"Supergirl\", \"Super Strength\"),\n",
        "    (5, \"Thor\", \"Beta Ray Bill\", \"God of Thunder\"),\n",
        "    (6, \"Wonder Woman\", \"Donna Troy\", \"Amazonian Strength\"),\n",
        "    (7, \"Black Panther\", \"Shuri\", \"Enhanced Intelligence\"),\n",
        "    (8, \"The Flash\", \"Kid Flash\", \"Super Speed\"),\n",
        "    (9, \"Hulk\", \"She-Hulk\", \"Super Strength\"),\n",
        "    (10, \"Doctor Strange\", \"Wong\", \"Mystic Arts\"),\n",
        "]\n",
        "\n",
        "# Insert data into the sidekicks table\n",
        "cursor.executemany('''\n",
        "    INSERT INTO sidekicks (hero_id, hero_name, sidekick_name, sidekick_power)\n",
        "    VALUES (?, ?, ?, ?)\n",
        "''', sidekick_data)\n",
        "\n",
        "query5 = \"SELECT sidekick_name, sidekick_power, hero_name FROM sidekicks;\"\n",
        "sidekicks_df = pd.read_sql(query5, conn)\n",
        "print(\"\\nAll Sidekicks and Their Powers:\")\n",
        "print(sidekicks_df)\n",
        "\n",
        "# Commit and close connection\n",
        "conn.commit()\n",
        "conn.close()\n",
        "\n",
        "\n"
      ],
      "metadata": {
        "colab": {
          "base_uri": "https://localhost:8080/"
        },
        "id": "RzD3EYjTZM3H",
        "outputId": "66cbb840-b74e-4786-ec9f-51737f681777"
      },
      "id": "RzD3EYjTZM3H",
      "execution_count": null,
      "outputs": [
        {
          "output_type": "stream",
          "name": "stdout",
          "text": [
            "\n",
            "All Sidekicks and Their Powers:\n",
            "   sidekick_name         sidekick_power       hero_name\n",
            "0  Miles Morales           Web-slinging      Spider-Man\n",
            "1    War Machine          Powered Armor        Iron Man\n",
            "2          Robin             Acrobatics          Batman\n",
            "3      Supergirl         Super Strength        Superman\n",
            "4  Beta Ray Bill         God of Thunder            Thor\n",
            "5     Donna Troy     Amazonian Strength    Wonder Woman\n",
            "6          Shuri  Enhanced Intelligence   Black Panther\n",
            "7      Kid Flash            Super Speed       The Flash\n",
            "8       She-Hulk         Super Strength            Hulk\n",
            "9           Wong            Mystic Arts  Doctor Strange\n",
            "Sidekicks table successfully created.\n"
          ]
        }
      ]
    },
    {
      "cell_type": "markdown",
      "id": "9bf43fe6",
      "metadata": {
        "id": "9bf43fe6"
      },
      "source": [
        "## Bonus Challenge (+5 Points)\n",
        "\n",
        "### Tasks:\n",
        "1. Enhance your project by adding a visual or interactive component.\n",
        "\n",
        "**Options:**\n",
        "- Visualize battles using Matplotlib (e.g., a bar chart showing how many battles each superhero has fought).\n",
        "- Make it interactive (e.g., allow users to input a superhero name and display their battles).\n",
        "\n",
        "✅ **Checkpoint:** If attempting the bonus, ensure that your visualization or interactive component works correctly."
      ]
    },
    {
      "cell_type": "markdown",
      "id": "89f56c05",
      "metadata": {
        "id": "89f56c05"
      },
      "source": [
        "## Submission Guidelines\n",
        "\n",
        "Each group must submit a **Google Colab Notebook (.ipynb)** containing:\n",
        "- ✅ **Database schema (DDL)**\n",
        "- ✅ **CSV imports & data insertion (DML)**\n",
        "- ✅ **SQL queries & results**\n",
        "- ✅ **Custom feature (bonus if applicable)**"
      ]
    },
    {
      "cell_type": "markdown",
      "id": "61477c9b",
      "metadata": {
        "id": "61477c9b"
      },
      "source": [
        "## Grading Criteria (Total: 25 Points)\n",
        "\n",
        "| Section                 | Points |\n",
        "|-------------------------|--------|\n",
        "| Database Setup          | 5      |\n",
        "| Data Importing         | 10     |\n",
        "| Querying the Data      | 10     |\n",
        "| Extra Feature          | 5      |\n",
        "| Bonus Challenge (Optional) | +5  |"
      ]
    },
    {
      "cell_type": "markdown",
      "id": "92bf6839",
      "metadata": {
        "id": "92bf6839"
      },
      "source": [
        "### Final Notes:\n",
        "- Be **creative** when designing superheroes and villains.\n",
        "- **Comment your code** to explain its functionality.\n",
        "- **Have fun** building your superhero universe!"
      ]
    }
  ],
  "metadata": {
    "colab": {
      "provenance": []
    },
    "language_info": {
      "name": "python"
    },
    "kernelspec": {
      "name": "python3",
      "display_name": "Python 3"
    }
  },
  "nbformat": 4,
  "nbformat_minor": 5
}